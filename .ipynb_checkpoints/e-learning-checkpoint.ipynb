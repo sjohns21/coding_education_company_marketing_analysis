{
 "cells": [
  {
   "cell_type": "markdown",
   "metadata": {},
   "source": [
    "# title\n",
    "using FCC's 2017 new coder survey https://github.com/freeCodeCamp/2017-new-coder-survey\n"
   ]
  },
  {
   "cell_type": "code",
   "execution_count": 2,
   "metadata": {
    "collapsed": true
   },
   "outputs": [],
   "source": [
    "import pandas as pd\n",
    "import matplotlib.pyplot as plt\n",
    "%matplotlib inline"
   ]
  },
  {
   "cell_type": "code",
   "execution_count": 3,
   "metadata": {
    "collapsed": false
   },
   "outputs": [],
   "source": [
    "df = pd.read_csv('2017-fCC-New-Coders-Survey-Data.csv',low_memory=False)"
   ]
  },
  {
   "cell_type": "code",
   "execution_count": 4,
   "metadata": {
    "collapsed": false
   },
   "outputs": [
    {
     "data": {
      "text/html": [
       "<div>\n",
       "<style scoped>\n",
       "    .dataframe tbody tr th:only-of-type {\n",
       "        vertical-align: middle;\n",
       "    }\n",
       "\n",
       "    .dataframe tbody tr th {\n",
       "        vertical-align: top;\n",
       "    }\n",
       "\n",
       "    .dataframe thead th {\n",
       "        text-align: right;\n",
       "    }\n",
       "</style>\n",
       "<table border=\"1\" class=\"dataframe\">\n",
       "  <thead>\n",
       "    <tr style=\"text-align: right;\">\n",
       "      <th></th>\n",
       "      <th>Age</th>\n",
       "      <th>AttendedBootcamp</th>\n",
       "      <th>BootcampFinish</th>\n",
       "      <th>BootcampLoanYesNo</th>\n",
       "      <th>BootcampName</th>\n",
       "      <th>BootcampRecommend</th>\n",
       "      <th>ChildrenNumber</th>\n",
       "      <th>CityPopulation</th>\n",
       "      <th>CodeEventConferences</th>\n",
       "      <th>CodeEventDjangoGirls</th>\n",
       "      <th>...</th>\n",
       "      <th>YouTubeFCC</th>\n",
       "      <th>YouTubeFunFunFunction</th>\n",
       "      <th>YouTubeGoogleDev</th>\n",
       "      <th>YouTubeLearnCode</th>\n",
       "      <th>YouTubeLevelUpTuts</th>\n",
       "      <th>YouTubeMIT</th>\n",
       "      <th>YouTubeMozillaHacks</th>\n",
       "      <th>YouTubeOther</th>\n",
       "      <th>YouTubeSimplilearn</th>\n",
       "      <th>YouTubeTheNewBoston</th>\n",
       "    </tr>\n",
       "  </thead>\n",
       "  <tbody>\n",
       "    <tr>\n",
       "      <th>0</th>\n",
       "      <td>27.0</td>\n",
       "      <td>0.0</td>\n",
       "      <td>NaN</td>\n",
       "      <td>NaN</td>\n",
       "      <td>NaN</td>\n",
       "      <td>NaN</td>\n",
       "      <td>NaN</td>\n",
       "      <td>more than 1 million</td>\n",
       "      <td>NaN</td>\n",
       "      <td>NaN</td>\n",
       "      <td>...</td>\n",
       "      <td>NaN</td>\n",
       "      <td>NaN</td>\n",
       "      <td>NaN</td>\n",
       "      <td>NaN</td>\n",
       "      <td>NaN</td>\n",
       "      <td>NaN</td>\n",
       "      <td>NaN</td>\n",
       "      <td>NaN</td>\n",
       "      <td>NaN</td>\n",
       "      <td>NaN</td>\n",
       "    </tr>\n",
       "    <tr>\n",
       "      <th>1</th>\n",
       "      <td>34.0</td>\n",
       "      <td>0.0</td>\n",
       "      <td>NaN</td>\n",
       "      <td>NaN</td>\n",
       "      <td>NaN</td>\n",
       "      <td>NaN</td>\n",
       "      <td>NaN</td>\n",
       "      <td>less than 100,000</td>\n",
       "      <td>NaN</td>\n",
       "      <td>NaN</td>\n",
       "      <td>...</td>\n",
       "      <td>1.0</td>\n",
       "      <td>NaN</td>\n",
       "      <td>NaN</td>\n",
       "      <td>NaN</td>\n",
       "      <td>NaN</td>\n",
       "      <td>NaN</td>\n",
       "      <td>NaN</td>\n",
       "      <td>NaN</td>\n",
       "      <td>NaN</td>\n",
       "      <td>NaN</td>\n",
       "    </tr>\n",
       "    <tr>\n",
       "      <th>2</th>\n",
       "      <td>21.0</td>\n",
       "      <td>0.0</td>\n",
       "      <td>NaN</td>\n",
       "      <td>NaN</td>\n",
       "      <td>NaN</td>\n",
       "      <td>NaN</td>\n",
       "      <td>NaN</td>\n",
       "      <td>more than 1 million</td>\n",
       "      <td>NaN</td>\n",
       "      <td>NaN</td>\n",
       "      <td>...</td>\n",
       "      <td>NaN</td>\n",
       "      <td>NaN</td>\n",
       "      <td>NaN</td>\n",
       "      <td>1.0</td>\n",
       "      <td>1.0</td>\n",
       "      <td>NaN</td>\n",
       "      <td>NaN</td>\n",
       "      <td>NaN</td>\n",
       "      <td>NaN</td>\n",
       "      <td>NaN</td>\n",
       "    </tr>\n",
       "    <tr>\n",
       "      <th>3</th>\n",
       "      <td>26.0</td>\n",
       "      <td>0.0</td>\n",
       "      <td>NaN</td>\n",
       "      <td>NaN</td>\n",
       "      <td>NaN</td>\n",
       "      <td>NaN</td>\n",
       "      <td>NaN</td>\n",
       "      <td>between 100,000 and 1 million</td>\n",
       "      <td>NaN</td>\n",
       "      <td>NaN</td>\n",
       "      <td>...</td>\n",
       "      <td>1.0</td>\n",
       "      <td>1.0</td>\n",
       "      <td>NaN</td>\n",
       "      <td>NaN</td>\n",
       "      <td>1.0</td>\n",
       "      <td>NaN</td>\n",
       "      <td>NaN</td>\n",
       "      <td>NaN</td>\n",
       "      <td>NaN</td>\n",
       "      <td>NaN</td>\n",
       "    </tr>\n",
       "    <tr>\n",
       "      <th>4</th>\n",
       "      <td>20.0</td>\n",
       "      <td>0.0</td>\n",
       "      <td>NaN</td>\n",
       "      <td>NaN</td>\n",
       "      <td>NaN</td>\n",
       "      <td>NaN</td>\n",
       "      <td>NaN</td>\n",
       "      <td>between 100,000 and 1 million</td>\n",
       "      <td>NaN</td>\n",
       "      <td>NaN</td>\n",
       "      <td>...</td>\n",
       "      <td>NaN</td>\n",
       "      <td>NaN</td>\n",
       "      <td>NaN</td>\n",
       "      <td>NaN</td>\n",
       "      <td>NaN</td>\n",
       "      <td>NaN</td>\n",
       "      <td>NaN</td>\n",
       "      <td>NaN</td>\n",
       "      <td>NaN</td>\n",
       "      <td>NaN</td>\n",
       "    </tr>\n",
       "  </tbody>\n",
       "</table>\n",
       "<p>5 rows × 136 columns</p>\n",
       "</div>"
      ],
      "text/plain": [
       "    Age  AttendedBootcamp  BootcampFinish  BootcampLoanYesNo BootcampName  \\\n",
       "0  27.0               0.0             NaN                NaN          NaN   \n",
       "1  34.0               0.0             NaN                NaN          NaN   \n",
       "2  21.0               0.0             NaN                NaN          NaN   \n",
       "3  26.0               0.0             NaN                NaN          NaN   \n",
       "4  20.0               0.0             NaN                NaN          NaN   \n",
       "\n",
       "   BootcampRecommend  ChildrenNumber                 CityPopulation  \\\n",
       "0                NaN             NaN            more than 1 million   \n",
       "1                NaN             NaN              less than 100,000   \n",
       "2                NaN             NaN            more than 1 million   \n",
       "3                NaN             NaN  between 100,000 and 1 million   \n",
       "4                NaN             NaN  between 100,000 and 1 million   \n",
       "\n",
       "   CodeEventConferences  CodeEventDjangoGirls         ...           \\\n",
       "0                   NaN                   NaN         ...            \n",
       "1                   NaN                   NaN         ...            \n",
       "2                   NaN                   NaN         ...            \n",
       "3                   NaN                   NaN         ...            \n",
       "4                   NaN                   NaN         ...            \n",
       "\n",
       "   YouTubeFCC  YouTubeFunFunFunction  YouTubeGoogleDev  YouTubeLearnCode  \\\n",
       "0         NaN                    NaN               NaN               NaN   \n",
       "1         1.0                    NaN               NaN               NaN   \n",
       "2         NaN                    NaN               NaN               1.0   \n",
       "3         1.0                    1.0               NaN               NaN   \n",
       "4         NaN                    NaN               NaN               NaN   \n",
       "\n",
       "   YouTubeLevelUpTuts  YouTubeMIT  YouTubeMozillaHacks YouTubeOther  \\\n",
       "0                 NaN         NaN                  NaN          NaN   \n",
       "1                 NaN         NaN                  NaN          NaN   \n",
       "2                 1.0         NaN                  NaN          NaN   \n",
       "3                 1.0         NaN                  NaN          NaN   \n",
       "4                 NaN         NaN                  NaN          NaN   \n",
       "\n",
       "   YouTubeSimplilearn  YouTubeTheNewBoston  \n",
       "0                 NaN                  NaN  \n",
       "1                 NaN                  NaN  \n",
       "2                 NaN                  NaN  \n",
       "3                 NaN                  NaN  \n",
       "4                 NaN                  NaN  \n",
       "\n",
       "[5 rows x 136 columns]"
      ]
     },
     "execution_count": 4,
     "metadata": {},
     "output_type": "execute_result"
    }
   ],
   "source": [
    "df.head(5)"
   ]
  },
  {
   "cell_type": "code",
   "execution_count": 5,
   "metadata": {
    "collapsed": false
   },
   "outputs": [
    {
     "data": {
      "text/plain": [
       "array(['Age', 'AttendedBootcamp', 'BootcampFinish', 'BootcampLoanYesNo',\n",
       "       'BootcampName', 'BootcampRecommend', 'ChildrenNumber',\n",
       "       'CityPopulation', 'CodeEventConferences', 'CodeEventDjangoGirls',\n",
       "       'CodeEventFCC', 'CodeEventGameJam', 'CodeEventGirlDev',\n",
       "       'CodeEventHackathons', 'CodeEventMeetup', 'CodeEventNodeSchool',\n",
       "       'CodeEventNone', 'CodeEventOther', 'CodeEventRailsBridge',\n",
       "       'CodeEventRailsGirls', 'CodeEventStartUpWknd',\n",
       "       'CodeEventWkdBootcamps', 'CodeEventWomenCode',\n",
       "       'CodeEventWorkshops', 'CommuteTime', 'CountryCitizen',\n",
       "       'CountryLive', 'EmploymentField', 'EmploymentFieldOther',\n",
       "       'EmploymentStatus', 'EmploymentStatusOther', 'ExpectedEarning',\n",
       "       'FinanciallySupporting', 'FirstDevJob', 'Gender', 'GenderOther',\n",
       "       'HasChildren', 'HasDebt', 'HasFinancialDependents',\n",
       "       'HasHighSpdInternet', 'HasHomeMortgage', 'HasServedInMilitary',\n",
       "       'HasStudentDebt', 'HomeMortgageOwe', 'HoursLearning', 'ID.x',\n",
       "       'ID.y', 'Income', 'IsEthnicMinority',\n",
       "       'IsReceiveDisabilitiesBenefits', 'IsSoftwareDev',\n",
       "       'IsUnderEmployed', 'JobApplyWhen', 'JobInterestBackEnd',\n",
       "       'JobInterestDataEngr', 'JobInterestDataSci', 'JobInterestDevOps',\n",
       "       'JobInterestFrontEnd', 'JobInterestFullStack',\n",
       "       'JobInterestGameDev', 'JobInterestInfoSec', 'JobInterestMobile',\n",
       "       'JobInterestOther', 'JobInterestProjMngr', 'JobInterestQAEngr',\n",
       "       'JobInterestUX', 'JobPref', 'JobRelocateYesNo', 'JobRoleInterest',\n",
       "       'JobWherePref', 'LanguageAtHome', 'MaritalStatus',\n",
       "       'MoneyForLearning', 'MonthsProgramming', 'NetworkID',\n",
       "       'Part1EndTime', 'Part1StartTime', 'Part2EndTime', 'Part2StartTime',\n",
       "       'PodcastChangeLog', 'PodcastCodeNewbie', 'PodcastCodePen',\n",
       "       'PodcastDevTea', 'PodcastDotNET', 'PodcastGiantRobots',\n",
       "       'PodcastJSAir', 'PodcastJSJabber', 'PodcastNone', 'PodcastOther',\n",
       "       'PodcastProgThrowdown', 'PodcastRubyRogues', 'PodcastSEDaily',\n",
       "       'PodcastSERadio', 'PodcastShopTalk', 'PodcastTalkPython',\n",
       "       'PodcastTheWebAhead', 'ResourceCodecademy', 'ResourceCodeWars',\n",
       "       'ResourceCoursera', 'ResourceCSS', 'ResourceEdX',\n",
       "       'ResourceEgghead', 'ResourceFCC', 'ResourceHackerRank',\n",
       "       'ResourceKA', 'ResourceLynda', 'ResourceMDN', 'ResourceOdinProj',\n",
       "       'ResourceOther', 'ResourcePluralSight', 'ResourceSkillcrush',\n",
       "       'ResourceSO', 'ResourceTreehouse', 'ResourceUdacity',\n",
       "       'ResourceUdemy', 'ResourceW3S', 'SchoolDegree', 'SchoolMajor',\n",
       "       'StudentDebtOwe', 'YouTubeCodeCourse', 'YouTubeCodingTrain',\n",
       "       'YouTubeCodingTut360', 'YouTubeComputerphile', 'YouTubeDerekBanas',\n",
       "       'YouTubeDevTips', 'YouTubeEngineeredTruth', 'YouTubeFCC',\n",
       "       'YouTubeFunFunFunction', 'YouTubeGoogleDev', 'YouTubeLearnCode',\n",
       "       'YouTubeLevelUpTuts', 'YouTubeMIT', 'YouTubeMozillaHacks',\n",
       "       'YouTubeOther', 'YouTubeSimplilearn', 'YouTubeTheNewBoston'],\n",
       "      dtype=object)"
      ]
     },
     "execution_count": 5,
     "metadata": {},
     "output_type": "execute_result"
    }
   ],
   "source": [
    "df.columns.values"
   ]
  },
  {
   "cell_type": "code",
   "execution_count": 6,
   "metadata": {
    "collapsed": false
   },
   "outputs": [
    {
     "data": {
      "text/plain": [
       "Full-Stack Web Developer                                                                                                                                                                                                                 11.770595\n",
       "  Front-End Web Developer                                                                                                                                                                                                                 6.435927\n",
       "  Data Scientist                                                                                                                                                                                                                          2.173913\n",
       "Back-End Web Developer                                                                                                                                                                                                                    2.030892\n",
       "  Mobile Developer                                                                                                                                                                                                                        1.673341\n",
       "Game Developer                                                                                                                                                                                                                            1.630435\n",
       "Information Security                                                                                                                                                                                                                      1.315789\n",
       "Full-Stack Web Developer,   Front-End Web Developer                                                                                                                                                                                       0.915332\n",
       "  Front-End Web Developer, Full-Stack Web Developer                                                                                                                                                                                       0.800915\n",
       "  Product Manager                                                                                                                                                                                                                         0.786613\n",
       "Data Engineer                                                                                                                                                                                                                             0.758009\n",
       "  User Experience Designer                                                                                                                                                                                                                0.743707\n",
       "  User Experience Designer,   Front-End Web Developer                                                                                                                                                                                     0.614989\n",
       "  Front-End Web Developer, Back-End Web Developer, Full-Stack Web Developer                                                                                                                                                               0.557780\n",
       "Back-End Web Developer,   Front-End Web Developer, Full-Stack Web Developer                                                                                                                                                               0.514874\n",
       "Back-End Web Developer, Full-Stack Web Developer,   Front-End Web Developer                                                                                                                                                               0.514874\n",
       "  DevOps / SysAdmin                                                                                                                                                                                                                       0.514874\n",
       "Full-Stack Web Developer,   Front-End Web Developer, Back-End Web Developer                                                                                                                                                               0.443364\n",
       "  Front-End Web Developer, Full-Stack Web Developer, Back-End Web Developer                                                                                                                                                               0.429062\n",
       "  Front-End Web Developer,   User Experience Designer                                                                                                                                                                                     0.414760\n",
       "Full-Stack Web Developer,   Mobile Developer                                                                                                                                                                                              0.414760\n",
       "Back-End Web Developer, Full-Stack Web Developer                                                                                                                                                                                          0.386156\n",
       "Full-Stack Web Developer, Back-End Web Developer                                                                                                                                                                                          0.371854\n",
       "Back-End Web Developer,   Front-End Web Developer                                                                                                                                                                                         0.286041\n",
       "Full-Stack Web Developer, Back-End Web Developer,   Front-End Web Developer                                                                                                                                                               0.271739\n",
       "Data Engineer,   Data Scientist                                                                                                                                                                                                           0.271739\n",
       "  Front-End Web Developer,   Mobile Developer                                                                                                                                                                                             0.257437\n",
       "Full-Stack Web Developer,   Data Scientist                                                                                                                                                                                                0.243135\n",
       "  Mobile Developer, Game Developer                                                                                                                                                                                                        0.228833\n",
       "  Data Scientist, Data Engineer                                                                                                                                                                                                           0.228833\n",
       "                                                                                                                                                                                                                                           ...    \n",
       "  User Experience Designer, Game Developer,   Mobile Developer, Full-Stack Web Developer                                                                                                                                                  0.014302\n",
       "Information Security,   DevOps / SysAdmin, Back-End Web Developer,   Mobile Developer, Networking                                                                                                                                         0.014302\n",
       "Information Security, Back-End Web Developer,   User Experience Designer,   Front-End Web Developer,   Mobile Developer, Data Engineer                                                                                                    0.014302\n",
       "Full-Stack Web Developer,   Data Scientist,   Quality Assurance Engineer,   Front-End Web Developer,   User Experience Designer, Information Security, Back-End Web Developer, Data Engineer,   DevOps / SysAdmin,   Mobile Developer     0.014302\n",
       "Game Developer, Full-Stack Web Developer, Back-End Web Developer,   Front-End Web Developer,   DevOps / SysAdmin                                                                                                                          0.014302\n",
       "  Data Scientist,   Mobile Developer, Data Engineer, Back-End Web Developer, Full-Stack Web Developer                                                                                                                                     0.014302\n",
       "Data Engineer, Information Security, Game Developer,   User Experience Designer,   Mobile Developer, Back-End Web Developer                                                                                                               0.014302\n",
       "  User Experience Designer,   Mobile Developer,   Data Scientist,   Quality Assurance Engineer, Full-Stack Web Developer,   Product Manager                                                                                               0.014302\n",
       "  Front-End Web Developer,   Data Scientist, Data Engineer, Full-Stack Web Developer,   DevOps / SysAdmin, Back-End Web Developer, Information Security,   User Experience Designer,   Mobile Developer, Game Developer                   0.014302\n",
       "Desktop Applications                                                                                                                                                                                                                      0.014302\n",
       "Back-End Web Developer, Full-Stack Web Developer, Game Developer, Data Engineer,   Front-End Web Developer                                                                                                                                0.014302\n",
       "Back-End Web Developer,   Product Manager,   Front-End Web Developer                                                                                                                                                                      0.014302\n",
       "Machine learning and AI                                                                                                                                                                                                                   0.014302\n",
       "Data Engineer, milatary engineer                                                                                                                                                                                                          0.014302\n",
       "Back-End Web Developer,   Front-End Web Developer,   User Experience Designer, Full-Stack Web Developer                                                                                                                                   0.014302\n",
       "Full-Stack Web Developer, Game Developer,   Mobile Developer,   Front-End Web Developer, I am interested in Game Development, Mobile Development, Web Design, Front End Web Development                                                   0.014302\n",
       "Back-End Web Developer,   Front-End Web Developer, Information Security, Full-Stack Web Developer, Game Developer                                                                                                                         0.014302\n",
       "  Mobile Developer, Full-Stack Web Developer,   Data Scientist, Data Engineer, Back-End Web Developer, Information Security                                                                                                               0.014302\n",
       "  User Experience Designer,   Front-End Web Developer,   DevOps / SysAdmin, Full-Stack Web Developer, Information Security, Back-End Web Developer                                                                                        0.014302\n",
       "  User Experience Designer,   Product Manager,   DevOps / SysAdmin, Back-End Web Developer,   Front-End Web Developer,   Mobile Developer, Data Engineer, Full-Stack Web Developer,   Quality Assurance Engineer, Game Developer          0.014302\n",
       "  User Experience Designer, Full-Stack Web Developer,   DevOps / SysAdmin                                                                                                                                                                 0.014302\n",
       "Full-Stack Web Developer, Game Developer,   Front-End Web Developer,   Quality Assurance Engineer, Back-End Web Developer                                                                                                                 0.014302\n",
       "Data Engineer, Information Security,   Quality Assurance Engineer,   Mobile Developer                                                                                                                                                     0.014302\n",
       "  Front-End Web Developer,   Mobile Developer, Game Developer,   User Experience Designer, Full-Stack Web Developer                                                                                                                       0.014302\n",
       "  Mobile Developer, Back-End Web Developer, Full-Stack Web Developer,   Front-End Web Developer, Game Developer                                                                                                                           0.014302\n",
       "  Product Manager, Game Developer,   Front-End Web Developer,   Mobile Developer,   Data Scientist, Full-Stack Web Developer, Back-End Web Developer, Data Engineer,   User Experience Designer                                           0.014302\n",
       "Information Security,   Mobile Developer,   DevOps / SysAdmin, Data Engineer, Game Developer,   Data Scientist,   Front-End Web Developer,   User Experience Designer, Back-End Web Developer                                             0.014302\n",
       "Information Security, Full-Stack Web Developer,   User Experience Designer,   Mobile Developer,   Front-End Web Developer, Back-End Web Developer                                                                                         0.014302\n",
       "Data Engineer,   Product Manager,   Mobile Developer,   Front-End Web Developer,   User Experience Designer                                                                                                                               0.014302\n",
       "Back-End Web Developer,   Product Manager,   Data Scientist,   Front-End Web Developer, Data Engineer, Full-Stack Web Developer,   User Experience Designer                                                                               0.014302\n",
       "Name: JobRoleInterest, Length: 3213, dtype: float64"
      ]
     },
     "execution_count": 6,
     "metadata": {},
     "output_type": "execute_result"
    }
   ],
   "source": [
    "df.JobRoleInterest.value_counts(normalize=True)*100"
   ]
  },
  {
   "cell_type": "code",
   "execution_count": 7,
   "metadata": {
    "collapsed": false,
    "scrolled": true
   },
   "outputs": [
    {
     "data": {
      "text/plain": [
       "Full-Stack Web Developer                               823\n",
       "  Front-End Web Developer                              450\n",
       "  Data Scientist                                       152\n",
       "Back-End Web Developer                                 142\n",
       "  Mobile Developer                                     117\n",
       "Game Developer                                         114\n",
       "Information Security                                    92\n",
       "Full-Stack Web Developer,   Front-End Web Developer     64\n",
       "  Front-End Web Developer, Full-Stack Web Developer     56\n",
       "  Product Manager                                       55\n",
       "Name: JobRoleInterest, dtype: int64"
      ]
     },
     "execution_count": 7,
     "metadata": {},
     "output_type": "execute_result"
    }
   ],
   "source": [
    "df.JobRoleInterest.value_counts()[:10]"
   ]
  },
  {
   "cell_type": "code",
   "execution_count": 8,
   "metadata": {
    "collapsed": false,
    "scrolled": true
   },
   "outputs": [
    {
     "data": {
      "text/plain": [
       "<matplotlib.axes._subplots.AxesSubplot at 0x7f1ded189f60>"
      ]
     },
     "execution_count": 8,
     "metadata": {},
     "output_type": "execute_result"
    },
    {
     "data": {
      "image/png": "[encoded data removed]",
      "text/plain": [
       "<matplotlib.figure.Figure at 0x7f1ded189390>"
      ]
     },
     "metadata": {},
     "output_type": "display_data"
    }
   ],
   "source": [
    "df.JobRoleInterest.value_counts()[:10].plot.barh()"
   ]
  },
  {
   "cell_type": "markdown",
   "metadata": {},
   "source": [
    "most users in the population are intested in several job roles. mobile development, web development, data science and game development are the populations of interest for our analysis since they are our site's primary courses. as seen in the graph, these categories of job seekers are among the most represented by the FCC dataset, so using the data set to make inferences about our population of interest should be a fairly safe assumption."
   ]
  },
  {
   "cell_type": "code",
   "execution_count": 9,
   "metadata": {
    "collapsed": false
   },
   "outputs": [
    {
     "data": {
      "text/plain": [
       "(18175, 136)"
      ]
     },
     "execution_count": 9,
     "metadata": {},
     "output_type": "execute_result"
    }
   ],
   "source": [
    "df.shape"
   ]
  },
  {
   "cell_type": "code",
   "execution_count": 10,
   "metadata": {
    "collapsed": false,
    "scrolled": false
   },
   "outputs": [
    {
     "data": {
      "text/plain": [
       "11183"
      ]
     },
     "execution_count": 10,
     "metadata": {},
     "output_type": "execute_result"
    }
   ],
   "source": [
    "df.JobRoleInterest.isnull().sum()"
   ]
  },
  {
   "cell_type": "code",
   "execution_count": 11,
   "metadata": {
    "collapsed": false,
    "scrolled": true
   },
   "outputs": [
    {
     "data": {
      "text/plain": [
       "6992"
      ]
     },
     "execution_count": 11,
     "metadata": {},
     "output_type": "execute_result"
    }
   ],
   "source": [
    "(~df.JobRoleInterest.isna()).sum()\n"
   ]
  },
  {
   "cell_type": "code",
   "execution_count": 12,
   "metadata": {
    "collapsed": false,
    "scrolled": false
   },
   "outputs": [],
   "source": [
    "df = df.loc[~df.JobRoleInterest.isna()]"
   ]
  },
  {
   "cell_type": "code",
   "execution_count": 13,
   "metadata": {
    "collapsed": false
   },
   "outputs": [
    {
     "data": {
      "text/plain": [
       "(6992, 136)"
      ]
     },
     "execution_count": 13,
     "metadata": {},
     "output_type": "execute_result"
    }
   ],
   "source": [
    "df.shape"
   ]
  },
  {
   "cell_type": "code",
   "execution_count": 14,
   "metadata": {
    "collapsed": false,
    "scrolled": true
   },
   "outputs": [
    {
     "data": {
      "text/plain": [
       "<matplotlib.axes._subplots.AxesSubplot at 0x7f1ded0ceeb8>"
      ]
     },
     "execution_count": 14,
     "metadata": {},
     "output_type": "execute_result"
    },
    {
     "data": {
      "image/png": "[encoded data removed]",
      "text/plain": [
       "<matplotlib.figure.Figure at 0x7f1ded189630>"
      ]
     },
     "metadata": {},
     "output_type": "display_data"
    }
   ],
   "source": [
    "df.CountryLive.value_counts()[:10].plot.barh()"
   ]
  },
  {
   "cell_type": "markdown",
   "metadata": {},
   "source": [
    "after dropping records that didn't have a job role interest selected and summing the countries where respondents live, we should advertise in the US and India markets.\n"
   ]
  },
  {
   "cell_type": "code",
   "execution_count": 15,
   "metadata": {
    "collapsed": false,
    "scrolled": true
   },
   "outputs": [
    {
     "data": {
      "text/plain": [
       "6476"
      ]
     },
     "execution_count": 15,
     "metadata": {},
     "output_type": "execute_result"
    }
   ],
   "source": [
    "(df.MoneyForLearning.notna()).sum()"
   ]
  },
  {
   "cell_type": "code",
   "execution_count": 16,
   "metadata": {
    "collapsed": false
   },
   "outputs": [
    {
     "data": {
      "text/plain": [
       "6633"
      ]
     },
     "execution_count": 16,
     "metadata": {},
     "output_type": "execute_result"
    }
   ],
   "source": [
    "(df.MonthsProgramming.notna()).sum()"
   ]
  },
  {
   "cell_type": "code",
   "execution_count": 17,
   "metadata": {
    "collapsed": false,
    "scrolled": true
   },
   "outputs": [
    {
     "data": {
      "text/plain": [
       "6317"
      ]
     },
     "execution_count": 17,
     "metadata": {},
     "output_type": "execute_result"
    }
   ],
   "source": [
    "(df.MoneyForLearning.notna() & df.MonthsProgramming.notna()).sum()"
   ]
  },
  {
   "cell_type": "code",
   "execution_count": 18,
   "metadata": {
    "collapsed": false
   },
   "outputs": [],
   "source": [
    "df = df.loc[~df.MoneyForLearning.isna() & ~df.MonthsProgramming.isna()]"
   ]
  },
  {
   "cell_type": "code",
   "execution_count": 19,
   "metadata": {
    "collapsed": false,
    "scrolled": true
   },
   "outputs": [
    {
     "data": {
      "text/plain": [
       "(6317, 136)"
      ]
     },
     "execution_count": 19,
     "metadata": {},
     "output_type": "execute_result"
    }
   ],
   "source": [
    "df.shape"
   ]
  },
  {
   "cell_type": "code",
   "execution_count": 20,
   "metadata": {
    "collapsed": false
   },
   "outputs": [
    {
     "data": {
      "text/plain": [
       "(229, 136)"
      ]
     },
     "execution_count": 20,
     "metadata": {},
     "output_type": "execute_result"
    }
   ],
   "source": [
    "df.loc[(df['MonthsProgramming']==0)].shape"
   ]
  },
  {
   "cell_type": "code",
   "execution_count": 22,
   "metadata": {
    "collapsed": false,
    "scrolled": true
   },
   "outputs": [
    {
     "data": {
      "text/plain": [
       "False    6088\n",
       "True      229\n",
       "Name: MonthsProgramming, dtype: int64"
      ]
     },
     "execution_count": 22,
     "metadata": {},
     "output_type": "execute_result"
    }
   ],
   "source": [
    "(df['MonthsProgramming']==0).value_counts()"
   ]
  },
  {
   "cell_type": "code",
   "execution_count": 23,
   "metadata": {
    "collapsed": false
   },
   "outputs": [],
   "source": [
    "df.loc[df['MonthsProgramming']==0,'MonthsProgramming'] = 1"
   ]
  },
  {
   "cell_type": "code",
   "execution_count": 24,
   "metadata": {
    "collapsed": false,
    "scrolled": true
   },
   "outputs": [
    {
     "data": {
      "text/plain": [
       "False    6317\n",
       "Name: MonthsProgramming, dtype: int64"
      ]
     },
     "execution_count": 24,
     "metadata": {},
     "output_type": "execute_result"
    }
   ],
   "source": [
    "(df['MonthsProgramming']==0).value_counts()"
   ]
  },
  {
   "cell_type": "code",
   "execution_count": 25,
   "metadata": {
    "collapsed": false
   },
   "outputs": [],
   "source": [
    "df['SpentPerMonth']=df['MoneyForLearning']/df['MonthsProgramming']"
   ]
  },
  {
   "cell_type": "code",
   "execution_count": 26,
   "metadata": {
    "collapsed": false
   },
   "outputs": [
    {
     "data": {
      "text/plain": [
       "1           13.333333\n",
       "2          200.000000\n",
       "3            0.000000\n",
       "4            0.000000\n",
       "6            0.000000\n",
       "9            5.555556\n",
       "11           0.000000\n",
       "15           0.000000\n",
       "16          16.666667\n",
       "18          35.714286\n",
       "19          17.857143\n",
       "21         100.000000\n",
       "22         285.714286\n",
       "23         100.000000\n",
       "28           2.416667\n",
       "30          66.666667\n",
       "31           0.000000\n",
       "32         100.000000\n",
       "33          83.333333\n",
       "35           0.000000\n",
       "40          25.000000\n",
       "41           0.000000\n",
       "42          50.000000\n",
       "43           0.000000\n",
       "52           0.000000\n",
       "55           0.000000\n",
       "58           0.000000\n",
       "63          16.666667\n",
       "64          50.000000\n",
       "66           2.777778\n",
       "             ...     \n",
       "18070        0.055556\n",
       "18071        7.500000\n",
       "18073       16.666667\n",
       "18078      500.000000\n",
       "18080       25.000000\n",
       "18088      182.000000\n",
       "18089        0.000000\n",
       "18090        0.000000\n",
       "18093       27.777778\n",
       "18097        0.000000\n",
       "18098        1.222222\n",
       "18099     1000.000000\n",
       "18107      275.000000\n",
       "18111      200.000000\n",
       "18112        0.000000\n",
       "18113        0.000000\n",
       "18118        0.000000\n",
       "18125       28.571429\n",
       "18130        0.000000\n",
       "18131       16.666667\n",
       "18151        0.000000\n",
       "18153        0.000000\n",
       "18154      297.000000\n",
       "18155        0.000000\n",
       "18156     1000.000000\n",
       "18157        0.000000\n",
       "18160       33.333333\n",
       "18161        0.000000\n",
       "18162        0.000000\n",
       "18171    10000.000000\n",
       "Name: SpentPerMonth, Length: 6317, dtype: float64"
      ]
     },
     "execution_count": 26,
     "metadata": {},
     "output_type": "execute_result"
    }
   ],
   "source": [
    "df['SpentPerMonth']"
   ]
  },
  {
   "cell_type": "code",
   "execution_count": 27,
   "metadata": {
    "collapsed": false,
    "scrolled": true
   },
   "outputs": [
    {
     "data": {
      "text/plain": [
       "0"
      ]
     },
     "execution_count": 27,
     "metadata": {},
     "output_type": "execute_result"
    }
   ],
   "source": [
    "df.SpentPerMonth.isna().sum()"
   ]
  },
  {
   "cell_type": "code",
   "execution_count": 28,
   "metadata": {
    "collapsed": false,
    "scrolled": true
   },
   "outputs": [
    {
     "data": {
      "text/plain": [
       "105"
      ]
     },
     "execution_count": 28,
     "metadata": {},
     "output_type": "execute_result"
    }
   ],
   "source": [
    "df.CountryLive.isna().sum()"
   ]
  },
  {
   "cell_type": "code",
   "execution_count": 29,
   "metadata": {
    "collapsed": false,
    "scrolled": true
   },
   "outputs": [
    {
     "data": {
      "text/plain": [
       "6212"
      ]
     },
     "execution_count": 29,
     "metadata": {},
     "output_type": "execute_result"
    }
   ],
   "source": [
    "df.CountryLive.notna().sum()"
   ]
  },
  {
   "cell_type": "code",
   "execution_count": 30,
   "metadata": {
    "collapsed": false,
    "scrolled": false
   },
   "outputs": [
    {
     "data": {
      "text/plain": [
       "United States of America    2933\n",
       "India                        463\n",
       "United Kingdom               279\n",
       "Canada                       240\n",
       "Poland                       122\n",
       "Germany                      114\n",
       "Brazil                       111\n",
       "Australia                    102\n",
       "Russia                        79\n",
       "Ukraine                       79\n",
       "Name: CountryLive, dtype: int64"
      ]
     },
     "execution_count": 30,
     "metadata": {},
     "output_type": "execute_result"
    }
   ],
   "source": [
    "df.CountryLive.value_counts()[:10]"
   ]
  },
  {
   "cell_type": "code",
   "execution_count": 31,
   "metadata": {
    "collapsed": false,
    "scrolled": true
   },
   "outputs": [
    {
     "data": {
      "text/plain": [
       "Index(['United States of America', 'India', 'United Kingdom', 'Canada'], dtype='object')"
      ]
     },
     "execution_count": 31,
     "metadata": {},
     "output_type": "execute_result"
    }
   ],
   "source": [
    "df.CountryLive.value_counts()[:4].index"
   ]
  },
  {
   "cell_type": "code",
   "execution_count": 32,
   "metadata": {
    "collapsed": false
   },
   "outputs": [
    {
     "data": {
      "text/plain": [
       "1         True\n",
       "2         True\n",
       "3        False\n",
       "4        False\n",
       "6         True\n",
       "9        False\n",
       "11       False\n",
       "15        True\n",
       "16        True\n",
       "18        True\n",
       "19        True\n",
       "21        True\n",
       "22        True\n",
       "23        True\n",
       "28        True\n",
       "30        True\n",
       "31        True\n",
       "32        True\n",
       "33        True\n",
       "35        True\n",
       "40        True\n",
       "41       False\n",
       "42        True\n",
       "43       False\n",
       "52        True\n",
       "55        True\n",
       "58        True\n",
       "63        True\n",
       "64        True\n",
       "66        True\n",
       "         ...  \n",
       "18070    False\n",
       "18071     True\n",
       "18073    False\n",
       "18078    False\n",
       "18080    False\n",
       "18088    False\n",
       "18089    False\n",
       "18090    False\n",
       "18093     True\n",
       "18097    False\n",
       "18098    False\n",
       "18099    False\n",
       "18107     True\n",
       "18111     True\n",
       "18112    False\n",
       "18113     True\n",
       "18118    False\n",
       "18125    False\n",
       "18130     True\n",
       "18131    False\n",
       "18151    False\n",
       "18153    False\n",
       "18154    False\n",
       "18155    False\n",
       "18156     True\n",
       "18157    False\n",
       "18160    False\n",
       "18161    False\n",
       "18162    False\n",
       "18171    False\n",
       "Name: CountryLive, Length: 6317, dtype: bool"
      ]
     },
     "execution_count": 32,
     "metadata": {},
     "output_type": "execute_result"
    }
   ],
   "source": [
    "df.CountryLive.isin(df.CountryLive.value_counts()[:4].index)"
   ]
  },
  {
   "cell_type": "code",
   "execution_count": 33,
   "metadata": {
    "collapsed": false,
    "scrolled": true
   },
   "outputs": [
    {
     "data": {
      "text/plain": [
       "United States of America    2933\n",
       "India                        463\n",
       "United Kingdom               279\n",
       "Canada                       240\n",
       "Name: CountryLive, dtype: int64"
      ]
     },
     "execution_count": 33,
     "metadata": {},
     "output_type": "execute_result"
    }
   ],
   "source": [
    "df[df.CountryLive.isin(df.CountryLive.value_counts()[:4].index)].CountryLive.value_counts()"
   ]
  },
  {
   "cell_type": "code",
   "execution_count": 34,
   "metadata": {
    "collapsed": true
   },
   "outputs": [],
   "source": [
    "top4 = df[df.CountryLive.isin(df.CountryLive.value_counts()[:4].index)]"
   ]
  },
  {
   "cell_type": "code",
   "execution_count": 35,
   "metadata": {
    "collapsed": false
   },
   "outputs": [
    {
     "data": {
      "text/plain": [
       "United States of America    2933\n",
       "India                        463\n",
       "United Kingdom               279\n",
       "Canada                       240\n",
       "Name: CountryLive, dtype: int64"
      ]
     },
     "execution_count": 35,
     "metadata": {},
     "output_type": "execute_result"
    }
   ],
   "source": [
    "top4.CountryLive.value_counts()"
   ]
  },
  {
   "cell_type": "code",
   "execution_count": 36,
   "metadata": {
    "collapsed": false
   },
   "outputs": [
    {
     "data": {
      "text/plain": [
       "(3915, 137)"
      ]
     },
     "execution_count": 36,
     "metadata": {},
     "output_type": "execute_result"
    }
   ],
   "source": [
    "top4.shape"
   ]
  },
  {
   "cell_type": "code",
   "execution_count": 37,
   "metadata": {
    "collapsed": false,
    "scrolled": false
   },
   "outputs": [
    {
     "data": {
      "text/plain": [
       "CountryLive\n",
       "United States of America    227.997996\n",
       "India                       135.100982\n",
       "Canada                      113.510961\n",
       "United Kingdom               45.534443\n",
       "Name: SpentPerMonth, dtype: float64"
      ]
     },
     "execution_count": 37,
     "metadata": {},
     "output_type": "execute_result"
    }
   ],
   "source": [
    "top4.groupby('CountryLive')['SpentPerMonth'].mean().sort_values(ascending=False)"
   ]
  },
  {
   "cell_type": "code",
   "execution_count": 38,
   "metadata": {
    "collapsed": false,
    "scrolled": false
   },
   "outputs": [
    {
     "data": {
      "text/plain": [
       "<matplotlib.axes._subplots.AxesSubplot at 0x7f1ded13f978>"
      ]
     },
     "execution_count": 38,
     "metadata": {},
     "output_type": "execute_result"
    },
    {
     "data": {
      "image/png": "[encoded data removed]",
      "text/plain": [
       "<matplotlib.figure.Figure at 0x7f1ded0f9ef0>"
      ]
     },
     "metadata": {},
     "output_type": "display_data"
    }
   ],
   "source": [
    "top4[top4['CountryLive'] == 'United States of America'].SpentPerMonth.plot.box()"
   ]
  },
  {
   "cell_type": "code",
   "execution_count": 39,
   "metadata": {
    "collapsed": false,
    "scrolled": true
   },
   "outputs": [
    {
     "data": {
      "text/plain": [
       "<matplotlib.axes._subplots.AxesSubplot at 0x7f1dece474a8>"
      ]
     },
     "execution_count": 39,
     "metadata": {},
     "output_type": "execute_result"
    },
    {
     "data": {
      "image/png": "[encoded data removed]",
      "text/plain": [
       "<matplotlib.figure.Figure at 0x7f1dece582e8>"
      ]
     },
     "metadata": {},
     "output_type": "display_data"
    }
   ],
   "source": [
    "top4[top4['CountryLive'] == 'India'].SpentPerMonth.plot.box()"
   ]
  },
  {
   "cell_type": "code",
   "execution_count": 40,
   "metadata": {
    "collapsed": false,
    "scrolled": true
   },
   "outputs": [
    {
     "data": {
      "text/plain": [
       "<matplotlib.axes._subplots.AxesSubplot at 0x7f1ded070f28>"
      ]
     },
     "execution_count": 40,
     "metadata": {},
     "output_type": "execute_result"
    },
    {
     "data": {
      "image/png": "[encoded data removed]",
      "text/plain": [
       "<matplotlib.figure.Figure at 0x7f1decdd2cf8>"
      ]
     },
     "metadata": {},
     "output_type": "display_data"
    }
   ],
   "source": [
    "top4[top4['CountryLive'] == 'Canada'].SpentPerMonth.plot.box()"
   ]
  },
  {
   "cell_type": "code",
   "execution_count": 41,
   "metadata": {
    "collapsed": false
   },
   "outputs": [
    {
     "data": {
      "text/plain": [
       "<matplotlib.axes._subplots.AxesSubplot at 0x7f1decda08d0>"
      ]
     },
     "execution_count": 41,
     "metadata": {},
     "output_type": "execute_result"
    },
    {
     "data": {
      "image/png": "[encoded data removed]",
      "text/plain": [
       "<matplotlib.figure.Figure at 0x7f1decdbe908>"
      ]
     },
     "metadata": {},
     "output_type": "display_data"
    }
   ],
   "source": [
    "top4[top4['CountryLive'] == 'United Kingdom'].SpentPerMonth.plot.box()"
   ]
  },
  {
   "cell_type": "markdown",
   "metadata": {},
   "source": [
    "as we can see, all four of our countries of interest are heavily influenced by their outliers"
   ]
  },
  {
   "cell_type": "code",
   "execution_count": 42,
   "metadata": {
    "collapsed": false,
    "scrolled": false
   },
   "outputs": [
    {
     "data": {
      "text/plain": [
       "count     2933.000000\n",
       "mean       227.997996\n",
       "std       1940.245614\n",
       "min          0.000000\n",
       "25%          0.000000\n",
       "50%          3.333333\n",
       "75%         50.000000\n",
       "max      80000.000000\n",
       "Name: SpentPerMonth, dtype: float64"
      ]
     },
     "execution_count": 42,
     "metadata": {},
     "output_type": "execute_result"
    }
   ],
   "source": [
    "top4[top4['CountryLive'] == 'United States of America'].SpentPerMonth.describe()"
   ]
  },
  {
   "cell_type": "code",
   "execution_count": 43,
   "metadata": {
    "collapsed": false
   },
   "outputs": [
    {
     "data": {
      "text/html": [
       "<div>\n",
       "<style scoped>\n",
       "    .dataframe tbody tr th:only-of-type {\n",
       "        vertical-align: middle;\n",
       "    }\n",
       "\n",
       "    .dataframe tbody tr th {\n",
       "        vertical-align: top;\n",
       "    }\n",
       "\n",
       "    .dataframe thead th {\n",
       "        text-align: right;\n",
       "    }\n",
       "</style>\n",
       "<table border=\"1\" class=\"dataframe\">\n",
       "  <thead>\n",
       "    <tr style=\"text-align: right;\">\n",
       "      <th></th>\n",
       "      <th>count</th>\n",
       "      <th>mean</th>\n",
       "      <th>std</th>\n",
       "      <th>min</th>\n",
       "      <th>25%</th>\n",
       "      <th>50%</th>\n",
       "      <th>75%</th>\n",
       "      <th>max</th>\n",
       "    </tr>\n",
       "    <tr>\n",
       "      <th>CountryLive</th>\n",
       "      <th></th>\n",
       "      <th></th>\n",
       "      <th></th>\n",
       "      <th></th>\n",
       "      <th></th>\n",
       "      <th></th>\n",
       "      <th></th>\n",
       "      <th></th>\n",
       "    </tr>\n",
       "  </thead>\n",
       "  <tbody>\n",
       "    <tr>\n",
       "      <th>Canada</th>\n",
       "      <td>240.0</td>\n",
       "      <td>113.510961</td>\n",
       "      <td>441.014158</td>\n",
       "      <td>0.0</td>\n",
       "      <td>0.0</td>\n",
       "      <td>0.000000</td>\n",
       "      <td>25.000000</td>\n",
       "      <td>5000.0</td>\n",
       "    </tr>\n",
       "    <tr>\n",
       "      <th>India</th>\n",
       "      <td>463.0</td>\n",
       "      <td>135.100982</td>\n",
       "      <td>692.960378</td>\n",
       "      <td>0.0</td>\n",
       "      <td>0.0</td>\n",
       "      <td>0.000000</td>\n",
       "      <td>13.250000</td>\n",
       "      <td>10000.0</td>\n",
       "    </tr>\n",
       "    <tr>\n",
       "      <th>United Kingdom</th>\n",
       "      <td>279.0</td>\n",
       "      <td>45.534443</td>\n",
       "      <td>162.311836</td>\n",
       "      <td>0.0</td>\n",
       "      <td>0.0</td>\n",
       "      <td>0.000000</td>\n",
       "      <td>20.416667</td>\n",
       "      <td>1400.0</td>\n",
       "    </tr>\n",
       "    <tr>\n",
       "      <th>United States of America</th>\n",
       "      <td>2933.0</td>\n",
       "      <td>227.997996</td>\n",
       "      <td>1940.245614</td>\n",
       "      <td>0.0</td>\n",
       "      <td>0.0</td>\n",
       "      <td>3.333333</td>\n",
       "      <td>50.000000</td>\n",
       "      <td>80000.0</td>\n",
       "    </tr>\n",
       "  </tbody>\n",
       "</table>\n",
       "</div>"
      ],
      "text/plain": [
       "                           count        mean          std  min  25%       50%  \\\n",
       "CountryLive                                                                     \n",
       "Canada                     240.0  113.510961   441.014158  0.0  0.0  0.000000   \n",
       "India                      463.0  135.100982   692.960378  0.0  0.0  0.000000   \n",
       "United Kingdom             279.0   45.534443   162.311836  0.0  0.0  0.000000   \n",
       "United States of America  2933.0  227.997996  1940.245614  0.0  0.0  3.333333   \n",
       "\n",
       "                                75%      max  \n",
       "CountryLive                                   \n",
       "Canada                    25.000000   5000.0  \n",
       "India                     13.250000  10000.0  \n",
       "United Kingdom            20.416667   1400.0  \n",
       "United States of America  50.000000  80000.0  "
      ]
     },
     "execution_count": 43,
     "metadata": {},
     "output_type": "execute_result"
    }
   ],
   "source": [
    "top4.groupby('CountryLive').SpentPerMonth.describe()"
   ]
  },
  {
   "cell_type": "code",
   "execution_count": 44,
   "metadata": {
    "collapsed": false
   },
   "outputs": [
    {
     "data": {
      "text/plain": [
       "True     3899\n",
       "False      16\n",
       "Name: SpentPerMonth, dtype: int64"
      ]
     },
     "execution_count": 44,
     "metadata": {},
     "output_type": "execute_result"
    }
   ],
   "source": [
    "((top4.SpentPerMonth - top4.SpentPerMonth.mean()) <= (3*top4.SpentPerMonth.std())).value_counts()\n"
   ]
  },
  {
   "cell_type": "code",
   "execution_count": 45,
   "metadata": {
    "collapsed": true
   },
   "outputs": [],
   "source": [
    "top4a = top4[top4.CountryLive == 'United States of America']"
   ]
  },
  {
   "cell_type": "code",
   "execution_count": 46,
   "metadata": {
    "collapsed": false
   },
   "outputs": [
    {
     "data": {
      "text/plain": [
       "(2933, 137)"
      ]
     },
     "execution_count": 46,
     "metadata": {},
     "output_type": "execute_result"
    }
   ],
   "source": [
    "top4a.shape"
   ]
  },
  {
   "cell_type": "code",
   "execution_count": 47,
   "metadata": {
    "collapsed": true
   },
   "outputs": [],
   "source": [
    "top4k = top4[top4.CountryLive == 'United Kingdom']"
   ]
  },
  {
   "cell_type": "code",
   "execution_count": 48,
   "metadata": {
    "collapsed": false,
    "scrolled": true
   },
   "outputs": [
    {
     "data": {
      "text/plain": [
       "(279, 137)"
      ]
     },
     "execution_count": 48,
     "metadata": {},
     "output_type": "execute_result"
    }
   ],
   "source": [
    "top4k.shape"
   ]
  },
  {
   "cell_type": "code",
   "execution_count": 49,
   "metadata": {
    "collapsed": true
   },
   "outputs": [],
   "source": [
    "top4i = top4[top4.CountryLive == 'India']"
   ]
  },
  {
   "cell_type": "code",
   "execution_count": 50,
   "metadata": {
    "collapsed": false,
    "scrolled": true
   },
   "outputs": [
    {
     "data": {
      "text/plain": [
       "(463, 137)"
      ]
     },
     "execution_count": 50,
     "metadata": {},
     "output_type": "execute_result"
    }
   ],
   "source": [
    "top4i.shape"
   ]
  },
  {
   "cell_type": "code",
   "execution_count": 51,
   "metadata": {
    "collapsed": true
   },
   "outputs": [],
   "source": [
    "top4c = top4[top4.CountryLive == 'Canada']"
   ]
  },
  {
   "cell_type": "code",
   "execution_count": 52,
   "metadata": {
    "collapsed": false,
    "scrolled": true
   },
   "outputs": [
    {
     "data": {
      "text/plain": [
       "(240, 137)"
      ]
     },
     "execution_count": 52,
     "metadata": {},
     "output_type": "execute_result"
    }
   ],
   "source": [
    "top4c.shape"
   ]
  },
  {
   "cell_type": "code",
   "execution_count": 53,
   "metadata": {
    "collapsed": true
   },
   "outputs": [],
   "source": [
    "top4as = top4a.SpentPerMonth"
   ]
  },
  {
   "cell_type": "code",
   "execution_count": 54,
   "metadata": {
    "collapsed": true
   },
   "outputs": [],
   "source": [
    "top4ks = top4k.SpentPerMonth"
   ]
  },
  {
   "cell_type": "code",
   "execution_count": 55,
   "metadata": {
    "collapsed": true
   },
   "outputs": [],
   "source": [
    "top4is = top4i.SpentPerMonth"
   ]
  },
  {
   "cell_type": "code",
   "execution_count": 56,
   "metadata": {
    "collapsed": true
   },
   "outputs": [],
   "source": [
    "top4cs = top4c.SpentPerMonth"
   ]
  },
  {
   "cell_type": "code",
   "execution_count": 57,
   "metadata": {
    "collapsed": false,
    "scrolled": true
   },
   "outputs": [
    {
     "data": {
      "text/plain": [
       "True     2873\n",
       "False      60\n",
       "Name: SpentPerMonth, dtype: int64"
      ]
     },
     "execution_count": 57,
     "metadata": {},
     "output_type": "execute_result"
    }
   ],
   "source": [
    "(abs(top4as - top4as.mean()) < top4as.std()).value_counts()"
   ]
  },
  {
   "cell_type": "code",
   "execution_count": 58,
   "metadata": {
    "collapsed": false
   },
   "outputs": [
    {
     "data": {
      "text/plain": [
       "True     2920\n",
       "False      13\n",
       "Name: SpentPerMonth, dtype: int64"
      ]
     },
     "execution_count": 58,
     "metadata": {},
     "output_type": "execute_result"
    }
   ],
   "source": [
    "(abs(top4a.SpentPerMonth - top4a.SpentPerMonth.mean()) <= (3*top4a.SpentPerMonth.std())).value_counts()\n"
   ]
  },
  {
   "cell_type": "code",
   "execution_count": 59,
   "metadata": {
    "collapsed": false,
    "scrolled": true
   },
   "outputs": [
    {
     "data": {
      "text/plain": [
       "<matplotlib.axes._subplots.AxesSubplot at 0x7f1decc9b5f8>"
      ]
     },
     "execution_count": 59,
     "metadata": {},
     "output_type": "execute_result"
    },
    {
     "data": {
      "image/png": "[encoded data removed]",
      "text/plain": [
       "<matplotlib.figure.Figure at 0x7f1decdcfe80>"
      ]
     },
     "metadata": {},
     "output_type": "display_data"
    }
   ],
   "source": [
    "top4as[abs(top4as - top4as.mean()) <= (3*top4as.std())].plot.box()"
   ]
  },
  {
   "cell_type": "code",
   "execution_count": 60,
   "metadata": {
    "collapsed": false,
    "scrolled": true
   },
   "outputs": [
    {
     "data": {
      "text/plain": [
       "True     267\n",
       "False     12\n",
       "Name: SpentPerMonth, dtype: int64"
      ]
     },
     "execution_count": 60,
     "metadata": {},
     "output_type": "execute_result"
    }
   ],
   "source": [
    "(abs(top4ks - top4ks.mean()) < top4ks.std()).value_counts()"
   ]
  },
  {
   "cell_type": "code",
   "execution_count": 61,
   "metadata": {
    "collapsed": false,
    "scrolled": false
   },
   "outputs": [
    {
     "data": {
      "text/plain": [
       "True     274\n",
       "False      5\n",
       "Name: SpentPerMonth, dtype: int64"
      ]
     },
     "execution_count": 61,
     "metadata": {},
     "output_type": "execute_result"
    }
   ],
   "source": [
    "(abs(top4k.SpentPerMonth - top4k.SpentPerMonth.mean()) <= (3*top4k.SpentPerMonth.std())).value_counts()"
   ]
  },
  {
   "cell_type": "code",
   "execution_count": 62,
   "metadata": {
    "collapsed": false,
    "scrolled": false
   },
   "outputs": [
    {
     "data": {
      "text/plain": [
       "<matplotlib.axes._subplots.AxesSubplot at 0x7f1decc8fa90>"
      ]
     },
     "execution_count": 62,
     "metadata": {},
     "output_type": "execute_result"
    },
    {
     "data": {
      "image/png": "[encoded data removed]",
      "text/plain": [
       "<matplotlib.figure.Figure at 0x7f1decca0278>"
      ]
     },
     "metadata": {},
     "output_type": "display_data"
    }
   ],
   "source": [
    "top4ks[abs(top4ks - top4ks.mean()) <= (3*top4ks.std())].plot.box()"
   ]
  },
  {
   "cell_type": "code",
   "execution_count": 63,
   "metadata": {
    "collapsed": false
   },
   "outputs": [
    {
     "data": {
      "text/plain": [
       "<matplotlib.axes._subplots.AxesSubplot at 0x7f1decc0ad68>"
      ]
     },
     "execution_count": 63,
     "metadata": {},
     "output_type": "execute_result"
    },
    {
     "data": {
      "image/png": "[encoded data removed]",
      "text/plain": [
       "<matplotlib.figure.Figure at 0x7f1decc10470>"
      ]
     },
     "metadata": {},
     "output_type": "display_data"
    }
   ],
   "source": [
    "top4is[abs(top4is - top4is.mean()) <= (3*top4is.std())].plot.box()"
   ]
  },
  {
   "cell_type": "code",
   "execution_count": 64,
   "metadata": {
    "collapsed": false,
    "scrolled": false
   },
   "outputs": [
    {
     "data": {
      "text/plain": [
       "<matplotlib.axes._subplots.AxesSubplot at 0x7f1decc10c88>"
      ]
     },
     "execution_count": 64,
     "metadata": {},
     "output_type": "execute_result"
    },
    {
     "data": {
      "image/png": "[encoded data removed]",
      "text/plain": [
       "<matplotlib.figure.Figure at 0x7f1de97a47f0>"
      ]
     },
     "metadata": {},
     "output_type": "display_data"
    }
   ],
   "source": [
    "top4cs[abs(top4cs - top4cs.mean()) <= (3*top4cs.std())].plot.box()"
   ]
  },
  {
   "cell_type": "code",
   "execution_count": 77,
   "metadata": {
    "collapsed": false
   },
   "outputs": [
    {
     "data": {
      "text/plain": [
       "<matplotlib.axes._subplots.AxesSubplot at 0x7f1de31570b8>"
      ]
     },
     "execution_count": 77,
     "metadata": {},
     "output_type": "execute_result"
    },
    {
     "data": {
      "image/png": "[encoded data removed]",
      "text/plain": [
       "<matplotlib.figure.Figure at 0x7f1de31150f0>"
      ]
     },
     "metadata": {},
     "output_type": "display_data"
    }
   ],
   "source": [
    "top4as[abs(top4as - top4as.mean()) <= (3*top4as.std())].plot.box()\n",
    "top4ks[abs(top4ks - top4ks.mean()) <= (3*top4ks.std())].plot.box()"
   ]
  },
  {
   "cell_type": "markdown",
   "metadata": {},
   "source": [
    "its clear that these are extremly positively skewed distributions"
   ]
  },
  {
   "cell_type": "code",
   "execution_count": 76,
   "metadata": {
    "collapsed": false,
    "scrolled": true
   },
   "outputs": [
    {
     "data": {
      "text/plain": [
       "<matplotlib.legend.Legend at 0x7f1de311b470>"
      ]
     },
     "execution_count": 76,
     "metadata": {},
     "output_type": "execute_result"
    },
    {
     "data": {
      "image/png": "[encoded data removed]",
      "text/plain": [
       "<matplotlib.figure.Figure at 0x7f1de316c748>"
      ]
     },
     "metadata": {},
     "output_type": "display_data"
    }
   ],
   "source": [
    "top4as.plot.kde(xlim=(0,1000),label='USA')\n",
    "top4ks.plot.kde(xlim=(0,1000),label='UK')\n",
    "top4is.plot.kde(xlim=(0,1000),label='India')\n",
    "top4cs.plot.kde(xlim=(0,1000),label='Canada')\n",
    "plt.legend()"
   ]
  },
  {
   "cell_type": "code",
   "execution_count": null,
   "metadata": {
    "collapsed": true
   },
   "outputs": [],
   "source": []
  }
 ],
 "metadata": {
  "kernelspec": {
   "display_name": "Python 3",
   "language": "python",
   "name": "python3"
  },
  "language_info": {
   "codemirror_mode": {
    "name": "ipython",
    "version": 3
   },
   "file_extension": ".py",
   "mimetype": "text/x-python",
   "name": "python",
   "nbconvert_exporter": "python",
   "pygments_lexer": "ipython3",
   "version": "3.4.3"
  }
 },
 "nbformat": 4,
 "nbformat_minor": 2
}
